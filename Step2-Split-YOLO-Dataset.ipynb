{
 "cells": [
  {
   "cell_type": "markdown",
   "id": "dab10fb9",
   "metadata": {},
   "source": [
    "At this point, you should have completed step 1, and have yolo-training-data"
   ]
  },
  {
   "cell_type": "code",
   "execution_count": 20,
   "id": "497fdd2f",
   "metadata": {},
   "outputs": [],
   "source": [
    "# Config\n",
    "SPLITS = {\"train\": 0.7, \"valid\": 0.2, \"test\": 0.1}\n",
    "INPUT_DIRECTORY = \"yolo-training-data\""
   ]
  },
  {
   "cell_type": "code",
   "execution_count": 21,
   "id": "710eb0b2",
   "metadata": {},
   "outputs": [],
   "source": [
    "# imports\n",
    "import random\n",
    "import os"
   ]
  },
  {
   "cell_type": "code",
   "execution_count": 22,
   "id": "68f7b3a9",
   "metadata": {},
   "outputs": [],
   "source": [
    "def split(input_directory: str, splits: dict[str, float]):\n",
    "    images_dir = os.path.join(input_directory, \"images\")\n",
    "    labels_dir = os.path.join(input_directory, \"labels\")\n",
    "    image_files = [f for f in os.listdir(images_dir) if os.path.isfile(os.path.join(images_dir, f))]\n",
    "    random.shuffle(image_files)\n",
    "\n",
    "    total = len(image_files)\n",
    "    split_points = {}\n",
    "    last = 0\n",
    "    for k, v in splits.items():\n",
    "        count = int(v * total)\n",
    "        split_points[k] = (last, last + count)\n",
    "        last += count\n",
    "    # Adjust last split to include any remainder\n",
    "    last_key = list(splits.keys())[-1]\n",
    "    split_points[last_key] = (split_points[last_key][0], total)\n",
    "\n",
    "    for split_name, (start, end) in split_points.items():\n",
    "        split_img_dir = os.path.join(input_directory, split_name, \"images\")\n",
    "        split_lbl_dir = os.path.join(input_directory, split_name, \"labels\")\n",
    "        os.makedirs(split_img_dir, exist_ok=True)\n",
    "        os.makedirs(split_lbl_dir, exist_ok=True)\n",
    "        for img_file in image_files[start:end]:\n",
    "            # Copy image\n",
    "            src_img = os.path.join(images_dir, img_file)\n",
    "            dst_img = os.path.join(split_img_dir, img_file)\n",
    "            os.replace(src_img, dst_img)\n",
    "            # Copy label (assume same filename but .txt extension)\n",
    "            label_file = os.path.splitext(img_file)[0] + \".txt\"\n",
    "            src_lbl = os.path.join(labels_dir, label_file)\n",
    "            if os.path.exists(src_lbl):\n",
    "                dst_lbl = os.path.join(split_lbl_dir, label_file)\n",
    "                os.replace(src_lbl, dst_lbl)"
   ]
  },
  {
   "cell_type": "code",
   "execution_count": 23,
   "id": "8234ee43",
   "metadata": {},
   "outputs": [],
   "source": [
    "# GO!\n",
    "split(INPUT_DIRECTORY, SPLITS)\n",
    "os.rmdir(os.path.join(INPUT_DIRECTORY, \"images\"))\n",
    "os.rmdir(os.path.join(INPUT_DIRECTORY, \"labels\"))"
   ]
  }
 ],
 "metadata": {
  "kernelspec": {
   "display_name": ".venv",
   "language": "python",
   "name": "python3"
  },
  "language_info": {
   "codemirror_mode": {
    "name": "ipython",
    "version": 3
   },
   "file_extension": ".py",
   "mimetype": "text/x-python",
   "name": "python",
   "nbconvert_exporter": "python",
   "pygments_lexer": "ipython3",
   "version": "3.13.3"
  }
 },
 "nbformat": 4,
 "nbformat_minor": 5
}
