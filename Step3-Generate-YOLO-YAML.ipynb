{
 "cells": [
  {
   "cell_type": "markdown",
   "id": "52baad29",
   "metadata": {},
   "source": [
    "This step will generate the data.yaml for training"
   ]
  },
  {
   "cell_type": "code",
   "execution_count": 2,
   "id": "62391200",
   "metadata": {},
   "outputs": [
    {
     "name": "stdout",
     "output_type": "stream",
     "text": [
      "Requirement already satisfied: pyyaml in ./.venv/lib64/python3.13/site-packages (6.0.2)\n",
      "\n",
      "\u001b[1m[\u001b[0m\u001b[34;49mnotice\u001b[0m\u001b[1;39;49m]\u001b[0m\u001b[39;49m A new release of pip is available: \u001b[0m\u001b[31;49m24.3.1\u001b[0m\u001b[39;49m -> \u001b[0m\u001b[32;49m25.1.1\u001b[0m\n",
      "\u001b[1m[\u001b[0m\u001b[34;49mnotice\u001b[0m\u001b[1;39;49m]\u001b[0m\u001b[39;49m To update, run: \u001b[0m\u001b[32;49m/home/kevin/AI/FRC/Tools/.venv/bin/python -m pip install --upgrade pip\u001b[0m\n",
      "Note: you may need to restart the kernel to use updated packages.\n"
     ]
    }
   ],
   "source": [
    "%pip install pyyaml"
   ]
  },
  {
   "cell_type": "code",
   "execution_count": 39,
   "id": "41bde590",
   "metadata": {},
   "outputs": [],
   "source": [
    "DATASET = \"yolo-training-data\"\n",
    "LOG_LEVEL = \"TRACE\" # TRACE, DEBUG, INFO, WARNING, ERROR, CRITICAL"
   ]
  },
  {
   "cell_type": "code",
   "execution_count": 40,
   "id": "c4a88f33",
   "metadata": {},
   "outputs": [],
   "source": [
    "# imports\n",
    "import os\n",
    "import yaml"
   ]
  },
  {
   "cell_type": "code",
   "execution_count": 41,
   "id": "d6da64ea",
   "metadata": {},
   "outputs": [
    {
     "data": {
      "text/plain": [
       "4"
      ]
     },
     "execution_count": 41,
     "metadata": {},
     "output_type": "execute_result"
    }
   ],
   "source": [
    "# Configure logging\n",
    "\n",
    "from loguru import logger\n",
    "import sys\n",
    "logger.remove()\n",
    "logger.add(sys.stderr, level=LOG_LEVEL) "
   ]
  },
  {
   "cell_type": "code",
   "execution_count": 42,
   "id": "bcc68cb6",
   "metadata": {},
   "outputs": [],
   "source": [
    "# generate json\n",
    "def generate_yaml(dataset: str, output: str):\n",
    "    # get classes\n",
    "    with open(os.path.join(dataset, \"classes.txt\")) as f:\n",
    "        classes = set(f.read().strip().split(\"\\n\"))\n",
    "\n",
    "    data = {\n",
    "        \"names\": list(classes),\n",
    "        \"nc\": len(classes),\n",
    "        \"test\": \"test\",\n",
    "        \"train\": \"train\",\n",
    "        \"val\": \"valid\",\n",
    "    }\n",
    "    logger.debug(f\"JSON Data: {data}\")\n",
    "    \n",
    "    yml = yaml.dump(data)\n",
    "    with open(output, \"w\") as f:\n",
    "        f.write(yml)\n",
    "\n",
    "    logger.success(\"YAML written successfully\")\n"
   ]
  },
  {
   "cell_type": "code",
   "execution_count": 43,
   "id": "bf8196a9",
   "metadata": {},
   "outputs": [
    {
     "name": "stderr",
     "output_type": "stream",
     "text": [
      "\u001b[32m2025-06-15 15:00:33.266\u001b[0m | \u001b[34m\u001b[1mDEBUG   \u001b[0m | \u001b[36m__main__\u001b[0m:\u001b[36mgenerate_yaml\u001b[0m:\u001b[36m14\u001b[0m - \u001b[34m\u001b[1mJSON Data: {'names': ['blueRobot', 'redRobot'], 'nc': 2, 'test': 'test', 'train': 'train', 'val': 'valid'}\u001b[0m\n",
      "\u001b[32m2025-06-15 15:00:33.267\u001b[0m | \u001b[32m\u001b[1mSUCCESS \u001b[0m | \u001b[36m__main__\u001b[0m:\u001b[36mgenerate_yaml\u001b[0m:\u001b[36m20\u001b[0m - \u001b[32m\u001b[1mYAML written successfully\u001b[0m\n",
      "\u001b[32m2025-06-15 15:00:33.267\u001b[0m | \u001b[32m\u001b[1mSUCCESS \u001b[0m | \u001b[36m__main__\u001b[0m:\u001b[36mgenerate_yaml\u001b[0m:\u001b[36m20\u001b[0m - \u001b[32m\u001b[1mYAML written successfully\u001b[0m\n"
     ]
    }
   ],
   "source": [
    "# GO!\n",
    "generate_yaml(DATASET, os.path.join(DATASET, \"data.yaml\"))"
   ]
  }
 ],
 "metadata": {
  "kernelspec": {
   "display_name": ".venv",
   "language": "python",
   "name": "python3"
  },
  "language_info": {
   "codemirror_mode": {
    "name": "ipython",
    "version": 3
   },
   "file_extension": ".py",
   "mimetype": "text/x-python",
   "name": "python",
   "nbconvert_exporter": "python",
   "pygments_lexer": "ipython3",
   "version": "3.13.3"
  }
 },
 "nbformat": 4,
 "nbformat_minor": 5
}
