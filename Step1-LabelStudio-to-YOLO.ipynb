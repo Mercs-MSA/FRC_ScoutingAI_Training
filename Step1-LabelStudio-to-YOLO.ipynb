{
 "cells": [
  {
   "cell_type": "markdown",
   "id": "721d1765",
   "metadata": {},
   "source": [
    "This step will process JSON-MIN outputs from Label Studio Video Object Tracking Projects\n",
    "\n",
    "The input directory expects a directory of videos and json files\n",
    "\n",
    "Videos must be in a format compatible with OpenCV's VideoCapture (ex: mp4)\n",
    "\n",
    "Ex:\n",
    "```\n",
    "label-studio-inputs\n",
    "|\n",
    "|-video1.mp4\n",
    "|-video1.json\n",
    "|-video2.mp4\n",
    "|-video2.json\n",
    "```\n",
    "\n",
    "## IMPORTANT\n",
    "Make sure that all source videos and Label Studio annotations are in the same frame rate.\n",
    "Label Studio ran at 24 FPS for me with a 29.97 FPS video. Convert the video FPS to the same used in Label Studio."
   ]
  },
  {
   "cell_type": "code",
   "execution_count": 41,
   "id": "8187a6e4",
   "metadata": {},
   "outputs": [
    {
     "name": "stdout",
     "output_type": "stream",
     "text": [
      "Requirement already satisfied: opencv-python~=4.11 in ./.venv/lib64/python3.13/site-packages (4.11.0.86)\n",
      "Requirement already satisfied: numpy>=1.21.2 in ./.venv/lib64/python3.13/site-packages (from opencv-python~=4.11) (2.3.0)\n",
      "\n",
      "\u001b[1m[\u001b[0m\u001b[34;49mnotice\u001b[0m\u001b[1;39;49m]\u001b[0m\u001b[39;49m A new release of pip is available: \u001b[0m\u001b[31;49m24.3.1\u001b[0m\u001b[39;49m -> \u001b[0m\u001b[32;49m25.1.1\u001b[0m\n",
      "\u001b[1m[\u001b[0m\u001b[34;49mnotice\u001b[0m\u001b[1;39;49m]\u001b[0m\u001b[39;49m To update, run: \u001b[0m\u001b[32;49m/home/kevin/AI/FRC/Tools/.venv/bin/python -m pip install --upgrade pip\u001b[0m\n",
      "Note: you may need to restart the kernel to use updated packages.\n",
      "Collecting moviepy\n",
      "  Downloading moviepy-2.2.1-py3-none-any.whl.metadata (6.9 kB)\n",
      "Requirement already satisfied: decorator<6.0,>=4.0.2 in ./.venv/lib64/python3.13/site-packages (from moviepy) (5.2.1)\n",
      "Collecting imageio<3.0,>=2.5 (from moviepy)\n",
      "  Downloading imageio-2.37.0-py3-none-any.whl.metadata (5.2 kB)\n",
      "Collecting imageio_ffmpeg>=0.2.0 (from moviepy)\n",
      "  Downloading imageio_ffmpeg-0.6.0-py3-none-manylinux2014_x86_64.whl.metadata (1.5 kB)\n",
      "Requirement already satisfied: numpy>=1.25.0 in ./.venv/lib64/python3.13/site-packages (from moviepy) (2.3.0)\n",
      "Collecting proglog<=1.0.0 (from moviepy)\n",
      "  Downloading proglog-0.1.12-py3-none-any.whl.metadata (794 bytes)\n",
      "Collecting python-dotenv>=0.10 (from moviepy)\n",
      "  Downloading python_dotenv-1.1.0-py3-none-any.whl.metadata (24 kB)\n",
      "Requirement already satisfied: pillow<12.0,>=9.2.0 in ./.venv/lib64/python3.13/site-packages (from moviepy) (11.2.1)\n",
      "Requirement already satisfied: tqdm in ./.venv/lib64/python3.13/site-packages (from proglog<=1.0.0->moviepy) (4.67.1)\n",
      "Downloading moviepy-2.2.1-py3-none-any.whl (129 kB)\n",
      "Downloading imageio-2.37.0-py3-none-any.whl (315 kB)\n",
      "Downloading imageio_ffmpeg-0.6.0-py3-none-manylinux2014_x86_64.whl (29.5 MB)\n",
      "\u001b[2K   \u001b[38;2;114;156;31m━━━━━━━━━━━━━━━━━━━━━━━━━━━━━━━━━━━━━━━━\u001b[0m \u001b[32m29.5/29.5 MB\u001b[0m \u001b[31m15.8 MB/s\u001b[0m eta \u001b[36m0:00:00\u001b[0m MB/s\u001b[0m eta \u001b[36m0:00:01\u001b[0m:01\u001b[0m\n",
      "\u001b[?25hDownloading proglog-0.1.12-py3-none-any.whl (6.3 kB)\n",
      "Downloading python_dotenv-1.1.0-py3-none-any.whl (20 kB)\n",
      "Installing collected packages: python-dotenv, proglog, imageio_ffmpeg, imageio, moviepy\n",
      "Successfully installed imageio-2.37.0 imageio_ffmpeg-0.6.0 moviepy-2.2.1 proglog-0.1.12 python-dotenv-1.1.0\n",
      "\n",
      "\u001b[1m[\u001b[0m\u001b[34;49mnotice\u001b[0m\u001b[1;39;49m]\u001b[0m\u001b[39;49m A new release of pip is available: \u001b[0m\u001b[31;49m24.3.1\u001b[0m\u001b[39;49m -> \u001b[0m\u001b[32;49m25.1.1\u001b[0m\n",
      "\u001b[1m[\u001b[0m\u001b[34;49mnotice\u001b[0m\u001b[1;39;49m]\u001b[0m\u001b[39;49m To update, run: \u001b[0m\u001b[32;49m/home/kevin/AI/FRC/Tools/.venv/bin/python -m pip install --upgrade pip\u001b[0m\n",
      "Note: you may need to restart the kernel to use updated packages.\n",
      "Requirement already satisfied: tqdm~=4.67.1 in ./.venv/lib64/python3.13/site-packages (4.67.1)\n",
      "\n",
      "\u001b[1m[\u001b[0m\u001b[34;49mnotice\u001b[0m\u001b[1;39;49m]\u001b[0m\u001b[39;49m A new release of pip is available: \u001b[0m\u001b[31;49m24.3.1\u001b[0m\u001b[39;49m -> \u001b[0m\u001b[32;49m25.1.1\u001b[0m\n",
      "\u001b[1m[\u001b[0m\u001b[34;49mnotice\u001b[0m\u001b[1;39;49m]\u001b[0m\u001b[39;49m To update, run: \u001b[0m\u001b[32;49m/home/kevin/AI/FRC/Tools/.venv/bin/python -m pip install --upgrade pip\u001b[0m\n",
      "Note: you may need to restart the kernel to use updated packages.\n",
      "Requirement already satisfied: loguru~=0.7.3 in ./.venv/lib64/python3.13/site-packages (0.7.3)\n",
      "\n",
      "\u001b[1m[\u001b[0m\u001b[34;49mnotice\u001b[0m\u001b[1;39;49m]\u001b[0m\u001b[39;49m A new release of pip is available: \u001b[0m\u001b[31;49m24.3.1\u001b[0m\u001b[39;49m -> \u001b[0m\u001b[32;49m25.1.1\u001b[0m\n",
      "\u001b[1m[\u001b[0m\u001b[34;49mnotice\u001b[0m\u001b[1;39;49m]\u001b[0m\u001b[39;49m To update, run: \u001b[0m\u001b[32;49m/home/kevin/AI/FRC/Tools/.venv/bin/python -m pip install --upgrade pip\u001b[0m\n",
      "Note: you may need to restart the kernel to use updated packages.\n",
      "Requirement already satisfied: ipywidgets in ./.venv/lib64/python3.13/site-packages (8.1.7)\n",
      "Requirement already satisfied: comm>=0.1.3 in ./.venv/lib64/python3.13/site-packages (from ipywidgets) (0.2.2)\n",
      "Requirement already satisfied: ipython>=6.1.0 in ./.venv/lib64/python3.13/site-packages (from ipywidgets) (9.3.0)\n",
      "Requirement already satisfied: traitlets>=4.3.1 in ./.venv/lib64/python3.13/site-packages (from ipywidgets) (5.14.3)\n",
      "Requirement already satisfied: widgetsnbextension~=4.0.14 in ./.venv/lib64/python3.13/site-packages (from ipywidgets) (4.0.14)\n",
      "Requirement already satisfied: jupyterlab_widgets~=3.0.15 in ./.venv/lib64/python3.13/site-packages (from ipywidgets) (3.0.15)\n",
      "Requirement already satisfied: decorator in ./.venv/lib64/python3.13/site-packages (from ipython>=6.1.0->ipywidgets) (5.2.1)\n",
      "Requirement already satisfied: ipython-pygments-lexers in ./.venv/lib64/python3.13/site-packages (from ipython>=6.1.0->ipywidgets) (1.1.1)\n",
      "Requirement already satisfied: jedi>=0.16 in ./.venv/lib64/python3.13/site-packages (from ipython>=6.1.0->ipywidgets) (0.19.2)\n",
      "Requirement already satisfied: matplotlib-inline in ./.venv/lib64/python3.13/site-packages (from ipython>=6.1.0->ipywidgets) (0.1.7)\n",
      "Requirement already satisfied: pexpect>4.3 in ./.venv/lib64/python3.13/site-packages (from ipython>=6.1.0->ipywidgets) (4.9.0)\n",
      "Requirement already satisfied: prompt_toolkit<3.1.0,>=3.0.41 in ./.venv/lib64/python3.13/site-packages (from ipython>=6.1.0->ipywidgets) (3.0.51)\n",
      "Requirement already satisfied: pygments>=2.4.0 in ./.venv/lib64/python3.13/site-packages (from ipython>=6.1.0->ipywidgets) (2.19.1)\n",
      "Requirement already satisfied: stack_data in ./.venv/lib64/python3.13/site-packages (from ipython>=6.1.0->ipywidgets) (0.6.3)\n",
      "Requirement already satisfied: parso<0.9.0,>=0.8.4 in ./.venv/lib64/python3.13/site-packages (from jedi>=0.16->ipython>=6.1.0->ipywidgets) (0.8.4)\n",
      "Requirement already satisfied: ptyprocess>=0.5 in ./.venv/lib64/python3.13/site-packages (from pexpect>4.3->ipython>=6.1.0->ipywidgets) (0.7.0)\n",
      "Requirement already satisfied: wcwidth in ./.venv/lib64/python3.13/site-packages (from prompt_toolkit<3.1.0,>=3.0.41->ipython>=6.1.0->ipywidgets) (0.2.13)\n",
      "Requirement already satisfied: executing>=1.2.0 in ./.venv/lib64/python3.13/site-packages (from stack_data->ipython>=6.1.0->ipywidgets) (2.2.0)\n",
      "Requirement already satisfied: asttokens>=2.1.0 in ./.venv/lib64/python3.13/site-packages (from stack_data->ipython>=6.1.0->ipywidgets) (3.0.0)\n",
      "Requirement already satisfied: pure-eval in ./.venv/lib64/python3.13/site-packages (from stack_data->ipython>=6.1.0->ipywidgets) (0.2.3)\n",
      "\n",
      "\u001b[1m[\u001b[0m\u001b[34;49mnotice\u001b[0m\u001b[1;39;49m]\u001b[0m\u001b[39;49m A new release of pip is available: \u001b[0m\u001b[31;49m24.3.1\u001b[0m\u001b[39;49m -> \u001b[0m\u001b[32;49m25.1.1\u001b[0m\n",
      "\u001b[1m[\u001b[0m\u001b[34;49mnotice\u001b[0m\u001b[1;39;49m]\u001b[0m\u001b[39;49m To update, run: \u001b[0m\u001b[32;49m/home/kevin/AI/FRC/Tools/.venv/bin/python -m pip install --upgrade pip\u001b[0m\n",
      "Note: you may need to restart the kernel to use updated packages.\n"
     ]
    }
   ],
   "source": [
    "# Install requirements\n",
    "%pip install opencv-python~=4.11\n",
    "%pip install moviepy\n",
    "%pip install tqdm~=4.67.1\n",
    "%pip install loguru~=0.7.3\n",
    "%pip install ipywidgets"
   ]
  },
  {
   "cell_type": "markdown",
   "id": "b8b3351f",
   "metadata": {},
   "source": [
    "**NOTE: A Jupyter kernel restart is required for fancy progress output**"
   ]
  },
  {
   "cell_type": "code",
   "execution_count": 82,
   "id": "27214db3",
   "metadata": {},
   "outputs": [],
   "source": [
    "# Configuration\n",
    "\n",
    "INPUTS_DIRECTORY=\"label-studio-inputs\"\n",
    "OUTPUTS_DIRECTORY=\"yolo-training-data\"\n",
    "LOG_LEVEL = \"TRACE\" # TRACE, DEBUG, INFO, WARNING, ERROR, CRITICAL\n",
    "SAVING_FRAMES_PER_SECOND = 25\n"
   ]
  },
  {
   "cell_type": "code",
   "execution_count": 83,
   "id": "03049190",
   "metadata": {},
   "outputs": [],
   "source": [
    "# Import everything needed\n",
    "import json\n",
    "import csv\n",
    "import copy\n",
    "import cv2\n",
    "import os\n",
    "from decimal import Decimal\n",
    "from pathlib import Path\n",
    "from tqdm.notebook import tqdm\n",
    "from moviepy import VideoFileClip"
   ]
  },
  {
   "cell_type": "code",
   "execution_count": 84,
   "id": "52f7be10",
   "metadata": {},
   "outputs": [
    {
     "data": {
      "text/plain": [
       "2"
      ]
     },
     "execution_count": 84,
     "metadata": {},
     "output_type": "execute_result"
    }
   ],
   "source": [
    "# Configure logging\n",
    "\n",
    "from loguru import logger\n",
    "import sys\n",
    "logger.remove()\n",
    "logger.add(sys.stderr, level=LOG_LEVEL) "
   ]
  },
  {
   "cell_type": "code",
   "execution_count": 91,
   "id": "3b206827",
   "metadata": {},
   "outputs": [
    {
     "data": {
      "text/plain": [
       "[None, None]"
      ]
     },
     "execution_count": 91,
     "metadata": {},
     "output_type": "execute_result"
    }
   ],
   "source": [
    "# Make output directories\n",
    "\n",
    "Path(OUTPUTS_DIRECTORY).mkdir()\n",
    "[(Path(OUTPUTS_DIRECTORY) / p).mkdir(parents=True, exist_ok=True) for p in ('images/', 'labels/')]"
   ]
  },
  {
   "cell_type": "code",
   "execution_count": 86,
   "id": "730eb418",
   "metadata": {},
   "outputs": [],
   "source": [
    "# Util: Linear Interpolation for bounding box processing. Label Studio will not export interpolated boxes unless a keyframe is present.\n",
    "\n",
    "def linear_interpolation(prev_seq, seq, label):\n",
    "    # Define the start and end frame numbers\n",
    "    a0 = prev_seq['frame']\n",
    "    a1 = seq['frame']\n",
    "    frames_info = dict()\n",
    "    # Loop over all intermediate frames\n",
    "    for frame in range(a0+1, a1):\n",
    "        t = Decimal(frame-a0)/Decimal(a1-a0)\n",
    "        info = [label]\n",
    "        # Interpolate bounding box dimensions for the current frame\n",
    "        for b0, b1 in ((prev_seq[k], seq[k]) for k in ('x', 'y', 'width', 'height')):\n",
    "            info.append(str(b0 + t*(b1-b0)))\n",
    "        # Add interpolated information for the current frame to 'frames_info'\n",
    "        frames_info[frame] = info\n",
    "    return frames_info"
   ]
  },
  {
   "cell_type": "code",
   "execution_count": 118,
   "id": "a094ed5a",
   "metadata": {},
   "outputs": [],
   "source": [
    "# Main processing function\n",
    "\n",
    "import numpy as np\n",
    "\n",
    "\n",
    "def process(input_directory: str, output_directory: Path) -> None:\n",
    "    files = os.listdir(input_directory)\n",
    "    json_files = [f for f in files if f.endswith('.json')]\n",
    "    inputs = []\n",
    "    for json_file in json_files:\n",
    "        base_name = os.path.splitext(json_file)[0]\n",
    "        videos = [f for f in files if os.path.splitext(f)[0] == base_name and not f.endswith('.json')]\n",
    "        if videos:\n",
    "            inputs.append({\"video\": videos[0], \"json\": json_file})\n",
    "        else:\n",
    "            logger.warning(f\"No matching video file found for {json_file}, skipping...\")\n",
    "    logger.debug(f\"File inputs: {inputs}\")\n",
    "\n",
    "    for work_index, inp in enumerate(inputs):\n",
    "        logger.info(f\"Processing video+annotations for {inp[\"json\"]}, {work_index + 1}/{len(inputs)}\")\n",
    "        with open(os.path.join(input_directory, inp[\"json\"])) as f:\n",
    "            video_labels = json.load(f, parse_float=Decimal)\n",
    "\n",
    "            labels = set()\n",
    "            for subject in video_labels[0]['box']:\n",
    "                labels.add(*subject['labels'])\n",
    "            labels_dict = {k: i for i, k in enumerate(sorted(labels))}\n",
    "\n",
    "            logger.debug(f\"Found labels: {labels_dict}\")\n",
    "\n",
    "            files_dict = dict()\n",
    "            frame_times = dict()\n",
    "\n",
    "            logger.debug(f\"Found {len(video_labels[0]['box'])} subjects in {inp['json']}\")\n",
    "\n",
    "            for subject in copy.deepcopy(video_labels[0]['box']):\n",
    "                subject_labels = subject['labels']\n",
    "\n",
    "                # Map label to int\n",
    "                if len(subject_labels) == 1:\n",
    "                    label = labels_dict[subject_labels[0]]\n",
    "                else:\n",
    "                    raise ValueError(\"Each subject must have exactly one label\")\n",
    "                \n",
    "                prev_seq = None\n",
    "\n",
    "                # Process each sequence in the subject's timeline\n",
    "                for seq in subject['sequence']:\n",
    "                    frame = seq['frame']\n",
    "\n",
    "                    # Adjust the x and y coordinates to be the center of the bounding box\n",
    "                    seq['x'] += seq['width'] / Decimal('2')\n",
    "                    seq['y'] += seq['height'] / Decimal('2')\n",
    "\n",
    "                    # Adjust the scale of bounding box dimensions\n",
    "                    for k in ('x', 'y', 'width', 'height'):\n",
    "                        seq[k] /= Decimal('100')\n",
    "\n",
    "                    # If the current sequence is not adjacent to the previous sequence, perform linear interpolation\n",
    "                    if (prev_seq is not None) and prev_seq['enabled'] and (frame - prev_seq['frame'] > 1):\n",
    "                        lines = linear_interpolation(prev_seq, seq, label)\n",
    "                    else:\n",
    "                        lines = dict()\n",
    "\n",
    "                    # Create the bounding box information line for the current frame\n",
    "                    lines[frame] = [label] + [str(seq[k]) for k in ('x', 'y', 'width', 'height')]\n",
    "\n",
    "                    # Add the bounding box information line to the corresponding frame in 'files_dict'\n",
    "                    for frame, info in lines.items():\n",
    "                        if frame in files_dict:\n",
    "                            files_dict[frame].append(info)\n",
    "                        else:\n",
    "                            files_dict[frame] = [info]\n",
    "\n",
    "                    # Store the timestamp for the current frame\n",
    "                    frame_times.update({frame: float(seq['time'])})\n",
    "\n",
    "                    prev_seq = seq\n",
    "        \n",
    "            files_dict = dict(sorted(files_dict.items()))\n",
    "            frame_times = dict(sorted(frame_times.items()))\n",
    "            logger.trace(f\"Frame times: {frame_times.keys()}\")\n",
    "\n",
    "        # Create classes.txt\n",
    "        classes_file = output_directory / 'classes.txt'\n",
    "        existing_lines = set()\n",
    "        if classes_file.exists():\n",
    "            with open(classes_file, 'r') as f:\n",
    "                existing_lines = set(line.strip() for line in f)\n",
    "                logger.trace(f\"Found existing lines in classes.txt, {existing_lines}\")\n",
    "        with open(classes_file, 'a') as f:\n",
    "            for line in labels_dict:\n",
    "                if line not in existing_lines:\n",
    "                    f.write(f'{line}\\n')\n",
    "                    logger.trace(f\"Line not in in classes.txt, {line}, appending it\")\n",
    "                else:\n",
    "                    logger.trace(f\"Line already in in classes.txt, {line}, ignoring it\")\n",
    "\n",
    "        \n",
    "        max_frame = max(files_dict.keys())\n",
    "        padding = len(str(max_frame))\n",
    "\n",
    "        # Write labels (annotations)\n",
    "        for frame, lines in tqdm(files_dict.items(), \"Writing label files\"):\n",
    "            with open(output_directory / 'labels' / f'{inp[\"json\"].rsplit(\".\", 1)[0]}_frame_{frame:0{padding}d}.txt', 'w') as csvfile:\n",
    "                csvwriter = csv.writer(csvfile, delimiter=' ')\n",
    "                csvwriter.writerows(lines)\n",
    "\n",
    "        # load the video clip\n",
    "        video_clip = VideoFileClip(os.path.join(input_directory, inp[\"video\"]))\n",
    "        # if the SAVING_FRAMES_PER_SECOND is above video FPS, then set it to FPS (as maximum)\n",
    "        saving_frames_per_second = min(video_clip.fps, SAVING_FRAMES_PER_SECOND)\n",
    "        # if SAVING_FRAMES_PER_SECOND is set to 0, step is 1/fps, else 1/SAVING_FRAMES_PER_SECOND\n",
    "        step = 1 / video_clip.fps if saving_frames_per_second == 0 else 1 / saving_frames_per_second\n",
    "        padding = len(str(int(video_clip.fps * video_clip.duration)))\n",
    "        images_dir = output_directory / 'images'\n",
    "        images_dir.mkdir(parents=True, exist_ok=True)\n",
    "        for idx, current_duration in tqdm(enumerate(np.arange(0, video_clip.duration, step)), \"Processing frames\", unit=\"frame\", total=round(SAVING_FRAMES_PER_SECOND * video_clip.duration)):\n",
    "            frame_filename = images_dir / f'{inp[\"json\"].rsplit(\".\", 1)[0]}_frame_{idx+1:0{padding}d}.jpg'\n",
    "            video_clip.save_frame(str(frame_filename), current_duration)\n",
    "\n",
    "        # look through frames, delete ones that aren't labelled\n",
    "        label_files = [x for x in os.listdir(output_directory / 'labels')]\n",
    "        for frame_file in tqdm(os.listdir(images_dir), \"Filtering frames\"):\n",
    "            if frame_file.rsplit(\".\", 1)[0] + \".txt\" not in label_files:\n",
    "                os.remove(os.path.join(output_directory, \"images\", frame_file))\n",
    "\n",
    "        logger.success(f\"Completed video+annotations for {inp[\"json\"]}, {work_index + 1}/{len(inputs)}\")\n"
   ]
  },
  {
   "cell_type": "code",
   "execution_count": null,
   "id": "a8f94128",
   "metadata": {},
   "outputs": [
    {
     "name": "stderr",
     "output_type": "stream",
     "text": [
      "\u001b[32m2025-06-15 14:58:48.615\u001b[0m | \u001b[34m\u001b[1mDEBUG   \u001b[0m | \u001b[36m__main__\u001b[0m:\u001b[36mprocess\u001b[0m:\u001b[36m17\u001b[0m - \u001b[34m\u001b[1mFile inputs: [{'video': 'video.mp4', 'json': 'video.json'}]\u001b[0m\n",
      "\u001b[32m2025-06-15 14:58:48.616\u001b[0m | \u001b[1mINFO    \u001b[0m | \u001b[36m__main__\u001b[0m:\u001b[36mprocess\u001b[0m:\u001b[36m20\u001b[0m - \u001b[1mProcessing video+annotations for video.json, 1/1\u001b[0m\n",
      "\u001b[32m2025-06-15 14:58:48.629\u001b[0m | \u001b[34m\u001b[1mDEBUG   \u001b[0m | \u001b[36m__main__\u001b[0m:\u001b[36mprocess\u001b[0m:\u001b[36m29\u001b[0m - \u001b[34m\u001b[1mFound labels: {'blueRobot': 0, 'redRobot': 1}\u001b[0m\n",
      "\u001b[32m2025-06-15 14:58:48.630\u001b[0m | \u001b[34m\u001b[1mDEBUG   \u001b[0m | \u001b[36m__main__\u001b[0m:\u001b[36mprocess\u001b[0m:\u001b[36m34\u001b[0m - \u001b[34m\u001b[1mFound 17 subjects in video.json\u001b[0m\n",
      "\u001b[32m2025-06-15 14:58:48.762\u001b[0m | \u001b[36m\u001b[1mTRACE   \u001b[0m | \u001b[36m__main__\u001b[0m:\u001b[36mprocess\u001b[0m:\u001b[36m82\u001b[0m - \u001b[36m\u001b[1mFrame times: dict_keys([77, 129, 151, 191, 206, 211, 218, 229, 232, 234, 237, 238, 239, 240, 241, 242, 243, 244, 245, 246, 247, 248, 249, 250, 251, 252, 253, 254, 255, 256, 257, 258, 259, 260, 261, 262, 263, 264, 265, 266, 267, 268, 269, 270, 271, 272, 273, 274, 275, 276, 277, 278, 279, 283, 284, 285, 286, 291, 292, 294, 295, 296, 298, 299, 301, 303, 304, 305, 307, 308, 310, 311, 313, 314, 315, 318, 319, 322, 323, 326, 327, 328, 329, 330, 331, 332, 333, 334, 335, 336, 337, 338, 340, 341, 342, 343, 344, 346, 347, 348, 349, 350, 351, 352, 353, 354, 355, 356, 357, 358, 359, 360, 361, 363, 367, 368, 371, 372, 375, 376, 377, 378, 379, 380, 381, 382, 383, 384, 386, 387, 388, 389, 390, 391, 392, 393, 394, 395, 396, 397, 399, 400, 402, 403, 404, 405, 406, 407, 408, 409, 410, 411, 412, 413, 414, 415, 417, 418, 421, 422, 423, 424, 425, 426, 429, 432, 433, 435, 438, 440, 443, 446, 447, 451, 453, 454, 456, 457, 458, 459, 461, 462, 464, 467, 469, 471, 472, 474, 475, 476, 480, 481, 483, 484, 486, 487, 488, 490, 492, 493, 496, 498, 499, 500, 501, 503, 504, 506, 508, 511, 516, 517, 518, 519, 522, 526, 531, 535, 539, 540, 541, 543, 545, 549, 553, 555, 556, 557, 562, 563, 568, 569, 574, 575, 580, 582, 598, 601, 620, 646, 651, 652, 653, 654, 655, 656, 657, 659, 661, 662, 664, 665, 666, 667, 668, 669, 670, 672, 675, 676, 680, 681, 683, 684, 685, 686, 687, 688, 689, 690, 691, 692, 693, 694, 695, 696, 697, 698, 699, 700, 701, 702, 703, 705, 706, 707, 709, 710, 712, 713, 714, 717, 718, 721, 722, 724, 725, 726, 727, 729, 731, 732, 733, 736, 738, 739, 740, 742, 743, 745, 747, 748, 749, 750, 751, 752, 753, 754, 755, 756, 758, 761, 762, 764, 766, 767, 769, 770, 771, 772, 773, 774, 775, 776, 777, 779, 780, 781, 782, 783, 784, 785, 787, 788, 789, 790, 791, 793, 794, 795, 796, 797, 798, 799, 800, 801, 803, 804, 806, 808, 809, 812, 813, 816, 817, 820, 821, 823, 824, 825, 826, 827, 828, 830, 832, 834, 835, 836, 838, 839, 840, 842, 843, 845, 846, 847, 848, 849, 850, 851, 852, 854, 855, 858, 859, 860, 861, 863, 865, 867, 868, 869, 870, 871, 873, 874, 875, 876, 878, 879, 882, 885, 886, 887, 889, 891, 892, 895, 896, 898, 899, 901, 902, 903, 905, 906, 907, 908, 909, 910, 912, 913, 914, 916, 918, 919, 923, 924, 926, 928, 929, 930, 931, 935, 937, 938, 939, 940, 943, 945, 947, 948, 949, 953, 954, 957, 958, 962, 963, 964, 965, 968, 969, 973, 974, 977, 978, 982, 983, 987, 988, 990, 991, 993, 994, 995, 996, 997, 999, 1000, 1001, 1002, 1004, 1005, 1006, 1007, 1008, 1009, 1010, 1011, 1012, 1014, 1016, 1018, 1020, 1021, 1022, 1024, 1026, 1027, 1028, 1029, 1030, 1031, 1032, 1033, 1034, 1035, 1036, 1037, 1038, 1040, 1041, 1043, 1044, 1045, 1046, 1047, 1050, 1053, 1054, 1057, 1058, 1059, 1062, 1064, 1065, 1071, 1073, 1074, 1076, 1077, 1078, 1080, 1083, 1085, 1086, 1089, 1091, 1092, 1093, 1094, 1096, 1100, 1104, 1108, 1111, 1112, 1115, 1118, 1119, 1121, 1122, 1124, 1125, 1126, 1127, 1128, 1130, 1131, 1132, 1133, 1134, 1135, 1136, 1137, 1138, 1139, 1140, 1142, 1144, 1146, 1147, 1150, 1152, 1153, 1154, 1156, 1157, 1159, 1160, 1162, 1163, 1164, 1165, 1166, 1167, 1168, 1170, 1172, 1173, 1175, 1176, 1177, 1179, 1180, 1181, 1183, 1184, 1187, 1189, 1191, 1194, 1196, 1197, 1198, 1200, 1201, 1203, 1205, 1206, 1208, 1209, 1210, 1211, 1213, 1214, 1217, 1219, 1220, 1221, 1222, 1223, 1224, 1226, 1229, 1230, 1231, 1232, 1234, 1236, 1237, 1238, 1239, 1241, 1244, 1245, 1246, 1247, 1248, 1249, 1250, 1251, 1252, 1253, 1254, 1256, 1258, 1260, 1261, 1262, 1264, 1266, 1267, 1270, 1275, 1278, 1283, 1285, 1286, 1287, 1289, 1290, 1291, 1293, 1294, 1296, 1297, 1298, 1299, 1300, 1302, 1304, 1305, 1306, 1307, 1308, 1310, 1311, 1312, 1313, 1314, 1316, 1318, 1320, 1321, 1322, 1325, 1326, 1330, 1331, 1332, 1333, 1334, 1335, 1336, 1339, 1342, 1344, 1345, 1347, 1349, 1351, 1353, 1356, 1358, 1360, 1361, 1362, 1363, 1364, 1365, 1366, 1368, 1369, 1371, 1372, 1374, 1375, 1376, 1377, 1379, 1383, 1385, 1387, 1388, 1389, 1391, 1392, 1393, 1394, 1397, 1399, 1400, 1401, 1404, 1408, 1409, 1412, 1413, 1415, 1416, 1417, 1418, 1419, 1421, 1424, 1425, 1426, 1427, 1428, 1429, 1431, 1432, 1433, 1435, 1436, 1437, 1438, 1439, 1440, 1441, 1442, 1443, 1444, 1445, 1446, 1447, 1449, 1451, 1452, 1453, 1455, 1456, 1457, 1458, 1459, 1461, 1462, 1463, 1464, 1465, 1466, 1467, 1469, 1470, 1471, 1472, 1473, 1474, 1475, 1476, 1477, 1478, 1479, 1480, 1482, 1483, 1484, 1485, 1486, 1490, 1491, 1494, 1495, 1496, 1498, 1500, 1501, 1504, 1505, 1507, 1509, 1510, 1512, 1513, 1514, 1515, 1516, 1517, 1519, 1520, 1522, 1523, 1524, 1527, 1530, 1531, 1532, 1533, 1534, 1536, 1538, 1541, 1543, 1545, 1546, 1548, 1550, 1552, 1553, 1554, 1556, 1557, 1558, 1560, 1561, 1562, 1563, 1564, 1566, 1567, 1568, 1570, 1571, 1572, 1573, 1574, 1575, 1576, 1578, 1579, 1582, 1585, 1586, 1587, 1588, 1589, 1590, 1593, 1594, 1597, 1598, 1600, 1601, 1602, 1604, 1605, 1607, 1608, 1609, 1610, 1611, 1612, 1613, 1614, 1615, 1616, 1617, 1618, 1619, 1620, 1621, 1622, 1624, 1625, 1626, 1627, 1628, 1629, 1630, 1631, 1632, 1634, 1635, 1636, 1637, 1638, 1639, 1640, 1641, 1642, 1643, 1645, 1646, 1647, 1650, 1651, 1653, 1655, 1656, 1659, 1661, 1664, 1669, 1674, 1680, 1682, 1684, 1686, 1687, 1688, 1689, 1690, 1692, 1694, 1695, 1696, 1697, 1699, 1700, 1701, 1702, 1704, 1706, 1707, 1708, 1710, 1711, 1715, 1716, 1717, 1719, 1721, 1722, 1724, 1725, 1726, 1728, 1729, 1731, 1733, 1734, 1736, 1737, 1738, 1739, 1740, 1741, 1742, 1743, 1744, 1745, 1747, 1750, 1752, 1753, 1754, 1755, 1756, 1757, 1758, 1759, 1760, 1761, 1762, 1763, 1765, 1766, 1767, 1768, 1769, 1771, 1772, 1774, 1775, 1776, 1777, 1778, 1780, 1781, 1782, 1783, 1784, 1786, 1788, 1789, 1790, 1791, 1792, 1794, 1795, 1796, 1798, 1799, 1802, 1803, 1806, 1807, 1809, 1810, 1811, 1813, 1814, 1816, 1817, 1818, 1821, 1822, 1825, 1826, 1827, 1829, 1830, 1832, 1833, 1836, 1837, 1840, 1841, 1842, 1843, 1845, 1846, 1847, 1849, 1850, 1851, 1852, 1854, 1857, 1861, 1862, 1864, 1866, 1867, 1869, 1870, 1872, 1873, 1874, 1877, 1880, 1881, 1882, 1883, 1884, 1887, 1888, 1889, 1891, 1893, 1894, 1896, 1897, 1899, 1900, 1903, 1905, 1906, 1907, 1908, 1910, 1911, 1912, 1914, 1915, 1916, 1917, 1918, 1920, 1921, 1922, 1923, 1924, 1925, 1926, 1927, 1928, 1929, 1930, 1932, 1934, 1935, 1936, 1940, 1942, 1944, 1946, 1948, 1951, 1952, 1953, 1956, 1958, 1962, 1964, 1966, 1967, 1968, 1970, 1971, 1973, 1974, 1978, 1979, 1982, 1984, 1986, 1987, 1988, 1989, 1991, 1992, 1993, 1995, 1996, 1998, 1999, 2000, 2001, 2003, 2004, 2005, 2006, 2007, 2008, 2011, 2012, 2013, 2015, 2016, 2017, 2018, 2019, 2021, 2023, 2025, 2027, 2028, 2030, 2031, 2032, 2033, 2034, 2036, 2037, 2039, 2040, 2041, 2042, 2044, 2045, 2046, 2047, 2049, 2050, 2051, 2053, 2054, 2056, 2057, 2058, 2059, 2060, 2061, 2062, 2063, 2065, 2066, 2068, 2069, 2070, 2071, 2072, 2074, 2075, 2076, 2077, 2078, 2079, 2080, 2081, 2083, 2084, 2085, 2086, 2088, 2092, 2093, 2096, 2097, 2099, 2100, 2103, 2107, 2110, 2113, 2114, 2118, 2120, 2121, 2122, 2123, 2124, 2126, 2127, 2128, 2129, 2130, 2132, 2133, 2134, 2135, 2138, 2139, 2140, 2141, 2143, 2144, 2145, 2146, 2147, 2149, 2150, 2151, 2152, 2153, 2154, 2155, 2157, 2158, 2159, 2160, 2163, 2164, 2165, 2168, 2169, 2172, 2173, 2174, 2176, 2179, 2181, 2182, 2184, 2187, 2188, 2190, 2192, 2195, 2196, 2198, 2199, 2200, 2201, 2202, 2203, 2204, 2206, 2207, 2208, 2210, 2211, 2212, 2213, 2214, 2215, 2216, 2217, 2219, 2221, 2223, 2224, 2225, 2226, 2229, 2230, 2232, 2233, 2234, 2235, 2236, 2237, 2239, 2241, 2242, 2243, 2244, 2245, 2246, 2249, 2250, 2251, 2252, 2253, 2255, 2256, 2258, 2260, 2261, 2262, 2264, 2266, 2271, 2272, 2275, 2277, 2278, 2279, 2280, 2283, 2284, 2285, 2286, 2289, 2290, 2292, 2293, 2295, 2297, 2298, 2302, 2304, 2306, 2307, 2311, 2312, 2315, 2316, 2319, 2321, 2324, 2325, 2328, 2329, 2332, 2335, 2337, 2339, 2340, 2343, 2347, 2348, 2349, 2351, 2352, 2353, 2354, 2355, 2356, 2358, 2359, 2360, 2362, 2364, 2365, 2367, 2368, 2370, 2372, 2374, 2375, 2376, 2377, 2378, 2379, 2380, 2381, 2383, 2384, 2385, 2386, 2388, 2390, 2391, 2392, 2393, 2394, 2397, 2400, 2401, 2402, 2405, 2406, 2408, 2410, 2412, 2414, 2416, 2419, 2420, 2421, 2423, 2425, 2426, 2427, 2429, 2430, 2431, 2432, 2433, 2434, 2435, 2436, 2437, 2438, 2439, 2440, 2441, 2442, 2443, 2444, 2446, 2447, 2449, 2450, 2451, 2452, 2453, 2454, 2455, 2456, 2457, 2458, 2459, 2460, 2461, 2462, 2463, 2464, 2465, 2466, 2467, 2468, 2470, 2471, 2472, 2473, 2474, 2475, 2476, 2477, 2478, 2479, 2480, 2481, 2483, 2484, 2486, 2487, 2488, 2489, 2490, 2491, 2493, 2494, 2495, 2496, 2497, 2500, 2501, 2502, 2503, 2504, 2505, 2506, 2508, 2509, 2510, 2512, 2515, 2516, 2517, 2518, 2520, 2521, 2522, 2523, 2524, 2525, 2526, 2527, 2528, 2531, 2534, 2535, 2538, 2539, 2541, 2542, 2543, 2545, 2549, 2552, 2553, 2556, 2558, 2560, 2561, 2563, 2565, 2567, 2568, 2569, 2570, 2571, 2572, 2573, 2575, 2576, 2577, 2578, 2579, 2581, 2582, 2583, 2584, 2585, 2586, 2588, 2589, 2590, 2591, 2592, 2593, 2594, 2595, 2598, 2599, 2600, 2601, 2602, 2604, 2605, 2606, 2607, 2609, 2610, 2611, 2612, 2614, 2615, 2616, 2618, 2619, 2621, 2622, 2623, 2624, 2625, 2627, 2628, 2629, 2631, 2634, 2638, 2641, 2645, 2647, 2648, 2649, 2650, 2651, 2652, 2653, 2654, 2655, 2656, 2657, 2658, 2659, 2660, 2661, 2663, 2664, 2665, 2666, 2667, 2670, 2671, 2673, 2675, 2676, 2677, 2678, 2679, 2680, 2681, 2682, 2683, 2685, 2686, 2688, 2689, 2692, 2693, 2695, 2697, 2698, 2699, 2700, 2703, 2704, 2710, 2711, 2715, 2717, 2722, 2726, 2727, 2729, 2730, 2733, 2735, 2736, 2737, 2740, 2741, 2742, 2744, 2745, 2747, 2748, 2750, 2751, 2752, 2755, 2757, 2758, 2759, 2760, 2761, 2762, 2763, 2764, 2765, 2767, 2768, 2769, 2770, 2772, 2773, 2774, 2775, 2776, 2777, 2778, 2779, 2782, 2783, 2785, 2786, 2787, 2788, 2789, 2790, 2791, 2792, 2793, 2794, 2796, 2797, 2798, 2799, 2800, 2801, 2802, 2803, 2804, 2806, 2807, 2808, 2809, 2810, 2811, 2812, 2813, 2814, 2815, 2816, 2817, 2818, 2821, 2822, 2823, 2824, 2826, 2827, 2831, 2832, 2835, 2836, 2837, 2838, 2840, 2841, 2842, 2843, 2845, 2846, 2847, 2850, 2851, 2852, 2853, 2854, 2855, 2856, 2857, 2858, 2861, 2863, 2864, 2866, 2867, 2869, 2871, 2873, 2875, 2876, 2878, 2879, 2880, 2881, 2882, 2883, 2884, 2885, 2886, 2887, 2889, 2890, 2893, 2894, 2896, 2897, 2899, 2900, 2902, 2903, 2904, 2905, 2906, 2908, 2909, 2910, 2911, 2912, 2913, 2914, 2915, 2916, 2917, 2918, 2919, 2920, 2921, 2922, 2923, 2926, 2928, 2929, 2930, 2931, 2933, 2938, 2941, 2942, 2946, 2947, 2949, 2955, 2956, 2958, 2960, 2961, 2962, 2964, 2966, 2968, 2970, 2971, 2972, 2973, 2976, 2978, 2979, 2980, 2981, 2982, 2983, 2984, 2985, 2986, 2987, 2988, 2991, 2992, 2993, 2994, 2995, 2996, 2998, 2999, 3001, 3003, 3004, 3005, 3006, 3007, 3008, 3009, 3010, 3011, 3012, 3013, 3014, 3016, 3017, 3019, 3020, 3022, 3025, 3026, 3028, 3029, 3030, 3032, 3033, 3034, 3036, 3037, 3038, 3039, 3040, 3041, 3042, 3043, 3044, 3045, 3046, 3047, 3048, 3049, 3051, 3052, 3054, 3056, 3058, 3059, 3060, 3061, 3062, 3064, 3065, 3066, 3067, 3068, 3069, 3070, 3071, 3072, 3073, 3074, 3075, 3076, 3077, 3078, 3079, 3080, 3081, 3082, 3083, 3085, 3086, 3088, 3089, 3090, 3092, 3094, 3095, 3098, 3099, 3101, 3103, 3104, 3106, 3107, 3108, 3109, 3110, 3111, 3112, 3113, 3114, 3115, 3117, 3119, 3120, 3121, 3123, 3124, 3126, 3127, 3128, 3129, 3130, 3132, 3133, 3134, 3135, 3137, 3138, 3139, 3141, 3142, 3143, 3144, 3145, 3146, 3147, 3150, 3151, 3152, 3153, 3154, 3155, 3156, 3158, 3160, 3161, 3162, 3163, 3164, 3165, 3166, 3167, 3168, 3169, 3170, 3173, 3174, 3176, 3177, 3178, 3179, 3180, 3181, 3182, 3183, 3184, 3185, 3186, 3187, 3188, 3189, 3192, 3193, 3195, 3197, 3198, 3199, 3201, 3202, 3204, 3205, 3207, 3210, 3211, 3212, 3214, 3217, 3219, 3220, 3221, 3223, 3225, 3226, 3227, 3228, 3229, 3230, 3233, 3236, 3237, 3238, 3239, 3240, 3242, 3243, 3244, 3245, 3246, 3247, 3248, 3249, 3250, 3251, 3252, 3253, 3254, 3255, 3256, 3257, 3258, 3260, 3261, 3262, 3263, 3264, 3266, 3268, 3269, 3273, 3274, 3275, 3277, 3278, 3279, 3280, 3281, 3282, 3283, 3284, 3285, 3287, 3288, 3290, 3291, 3292, 3293, 3294, 3295, 3296, 3298, 3299, 3301, 3302, 3303, 3304, 3305, 3306, 3307, 3308, 3310, 3312, 3313, 3314, 3315, 3316, 3317, 3318, 3319, 3320, 3321, 3322, 3323, 3324, 3325, 3326, 3327, 3328, 3329, 3330, 3331, 3332, 3334, 3335, 3336, 3337, 3338, 3339, 3340, 3341, 3342, 3343, 3344, 3345, 3346, 3348, 3349, 3350, 3351, 3352, 3353, 3354, 3356, 3357, 3358, 3359, 3360, 3361, 3362, 3363, 3366, 3367, 3368, 3369, 3371, 3372, 3374, 3375, 3376, 3378, 3379, 3380, 3381, 3382, 3383, 3384, 3385, 3386, 3387, 3388, 3389, 3391, 3392, 3393, 3394, 3395, 3396, 3398, 3399, 3400, 3401, 3402, 3403, 3404, 3405, 3406, 3408, 3409, 3411, 3414, 3415, 3417, 3421, 3422, 3424, 3425, 3427, 3428, 3429, 3430, 3431, 3433, 3434, 3435, 3437, 3438, 3441, 3442, 3447, 3448, 3449, 3450, 3451, 3452, 3453, 3454, 3456, 3458, 3459, 3460, 3463, 3464, 3466, 3467, 3469, 3472, 3475, 3477, 3478, 3479, 3480, 3481, 3482, 3483, 3484, 3486, 3487, 3490, 3491, 3492, 3496, 3498, 3501, 3502, 3503, 3504, 3506, 3508, 3510, 3511, 3514, 3515, 3516, 3517, 3518, 3520, 3522, 3524, 3527, 3528, 3530, 3532, 3535, 3536, 3538, 3544, 3546, 3548, 3549, 3552, 3553, 3555, 3557, 3559, 3560, 3562, 3564, 3568, 3570, 3573, 3577, 3578, 3582, 3583, 3586, 3588, 3589, 3590, 3593, 3594, 3596, 3598, 3600, 3602, 3603, 3605, 3607, 3610, 3611, 3612, 3617, 3620, 3621, 3625, 3631, 3634, 3637, 3640, 3643, 3646, 3651, 3652, 3659, 3660, 3662, 3665, 3667, 3668, 3671, 3672, 3673, 3674, 3676, 3678, 3679, 3680, 3681, 3682, 3684, 3687, 3688, 3691, 3692, 3693, 3695, 3696, 3697, 3698, 3702, 3703, 3704, 3705, 3707, 3710, 3713, 3716, 3718, 3719, 3720, 3721, 3722, 3724, 3725, 3728, 3730, 3733, 3736, 3740, 3741, 3742, 3744, 3747, 3749, 3750, 3753, 3757, 3760, 3761, 3765, 3766, 3768, 3769, 3771, 3774, 3775, 3776, 3777, 3779, 3780, 3781, 3782, 3783, 3786, 3790, 3792, 3794, 3796, 3800, 3801, 3802, 3806, 3807, 3811, 3812, 3813, 3816, 3817, 3819, 3822, 3825, 3827, 3829, 3830, 3832, 3836, 3837, 3840, 3841, 3850, 3853, 3885, 3893, 3897, 3900, 3916, 3931, 3942, 3943, 4167, 4190])\u001b[0m\n",
      "\u001b[32m2025-06-15 14:58:48.763\u001b[0m | \u001b[36m\u001b[1mTRACE   \u001b[0m | \u001b[36m__main__\u001b[0m:\u001b[36mprocess\u001b[0m:\u001b[36m90\u001b[0m - \u001b[36m\u001b[1mFound existing lines in classes.txt, {'redRobot', 'blueRobot'}\u001b[0m\n",
      "\u001b[32m2025-06-15 14:58:48.764\u001b[0m | \u001b[36m\u001b[1mTRACE   \u001b[0m | \u001b[36m__main__\u001b[0m:\u001b[36mprocess\u001b[0m:\u001b[36m97\u001b[0m - \u001b[36m\u001b[1mLine already in in classes.txt, blueRobot, ignoring it\u001b[0m\n",
      "\u001b[32m2025-06-15 14:58:48.764\u001b[0m | \u001b[36m\u001b[1mTRACE   \u001b[0m | \u001b[36m__main__\u001b[0m:\u001b[36mprocess\u001b[0m:\u001b[36m97\u001b[0m - \u001b[36m\u001b[1mLine already in in classes.txt, redRobot, ignoring it\u001b[0m\n"
     ]
    },
    {
     "data": {
      "application/vnd.jupyter.widget-view+json": {
       "model_id": "0d158eccb6954128b3118b2dcbec29b4",
       "version_major": 2,
       "version_minor": 0
      },
      "text/plain": [
       "Writing label files:   0%|          | 0/4114 [00:00<?, ?it/s]"
      ]
     },
     "metadata": {},
     "output_type": "display_data"
    },
    {
     "name": "stderr",
     "output_type": "stream",
     "text": [
      "/home/kevin/AI/FRC/Tools/.venv/lib64/python3.13/site-packages/moviepy/video/io/ffmpeg_reader.py:522: UserWarning: Subtitle stream parsing is not supported by moviepy and will be ignored\n",
      "ffmpeg output:\n",
      "\n",
      "Input #0, mov,mp4,m4a,3gp,3g2,mj2, from 'label-studio-inputs/video.mp4':\n",
      "  Metadata:\n",
      "    major_brand     : isom\n",
      "    minor_version   : 512\n",
      "    compatible_brands: isomiso2avc1mp41\n",
      "    title           : Einstein Final 1 - 2023 FIRST Championship\n",
      "    artist          : FIRSTRoboticsCompetition\n",
      "    date            : 20230422\n",
      "    encoder         : Lavf61.1.100\n",
      "    comment         : https://www.youtube.com/watch?v=yovTwDUIJI4\n",
      "    description     : Einstein Final 1 - 2023 FIRST Championship - FIRST Robotics Competition\n",
      "                    : Red (Teams 1323, 4096, 4414) - 213\n",
      "                    : Blue (Teams 5460, 125, 870) - 141\n",
      "                    : https://frc-events.firstinspires.org/2023/CMPTX/playoffs/14\n",
      "                    : \n",
      "                    : Uploaded by MatchLIVE from JK Productions\n",
      "                    : (c) 2023 FIRST Robotics Competition\n",
      "    synopsis        : Einstein Final 1 - 2023 FIRST Championship - FIRST Robotics Competition\n",
      "                    : Red (Teams 1323, 4096, 4414) - 213\n",
      "                    : Blue (Teams 5460, 125, 870) - 141\n",
      "                    : https://frc-events.firstinspires.org/2023/CMPTX/playoffs/14\n",
      "                    : \n",
      "                    : Uploaded by MatchLIVE from JK Productions\n",
      "                    : (c) 2023 FIRST Robotics Competition\n",
      "  Duration: 00:03:10.19, start: 0.000000, bitrate: 4206 kb/s\n",
      "  Stream #0:0[0x1](und): Video: h264 (High) (avc1 / 0x31637661), yuv420p(tv, bt709, progressive), 1920x1080 [SAR 1:1 DAR 16:9], 4070 kb/s, 29.97 fps, 29.97 tbr, 90k tbn (default)\n",
      "      Metadata:\n",
      "        handler_name    : VideoHandler\n",
      "        vendor_id       : [0][0][0][0]\n",
      "  Stream #0:1[0x2](eng): Audio: aac (LC) (mp4a / 0x6134706D), 44100 Hz, stereo, fltp, 127 kb/s (default)\n",
      "      Metadata:\n",
      "        handler_name    : SoundHandler\n",
      "        vendor_id       : [0][0][0][0]\n",
      "  Stream #0:2[0x3](eng): Subtitle: mov_text (tx3g / 0x67337874), 0 kb/s (default)\n",
      "      Metadata:\n",
      "        handler_name    : English\n",
      "At least one output file must be specified\n",
      "\n",
      "  warnings.warn(\n"
     ]
    },
    {
     "data": {
      "application/vnd.jupyter.widget-view+json": {
       "model_id": "3ea3b0f86d2a4168a330533087541e99",
       "version_major": 2,
       "version_minor": 0
      },
      "text/plain": [
       "Processing frames:   0%|          | 0/4755 [00:00<?, ?frame/s]"
      ]
     },
     "metadata": {},
     "output_type": "display_data"
    },
    {
     "data": {
      "application/vnd.jupyter.widget-view+json": {
       "model_id": "691c8bc2fc6c41ca849f1aa69471b3a1",
       "version_major": 2,
       "version_minor": 0
      },
      "text/plain": [
       "Filtering frames:   0%|          | 0/4755 [00:00<?, ?it/s]"
      ]
     },
     "metadata": {},
     "output_type": "display_data"
    },
    {
     "name": "stderr",
     "output_type": "stream",
     "text": [
      "\u001b[32m2025-06-15 14:59:36.912\u001b[0m | \u001b[32m\u001b[1mSUCCESS \u001b[0m | \u001b[36m__main__\u001b[0m:\u001b[36mprocess\u001b[0m:\u001b[36m128\u001b[0m - \u001b[32m\u001b[1mCompleted video+annotations for video.json, 1/1\u001b[0m\n"
     ]
    },
    {
     "ename": "",
     "evalue": "",
     "output_type": "error",
     "traceback": [
      "\u001b[1;31mThe Kernel crashed while executing code in the current cell or a previous cell. \n",
      "\u001b[1;31mPlease review the code in the cell(s) to identify a possible cause of the failure. \n",
      "\u001b[1;31mClick <a href='https://aka.ms/vscodeJupyterKernelCrash'>here</a> for more info. \n",
      "\u001b[1;31mView Jupyter <a href='command:jupyter.viewOutput'>log</a> for further details."
     ]
    }
   ],
   "source": [
    "# GO\n",
    "process(INPUTS_DIRECTORY, Path(OUTPUTS_DIRECTORY))"
   ]
  }
 ],
 "metadata": {
  "kernelspec": {
   "display_name": ".venv",
   "language": "python",
   "name": "python3"
  },
  "language_info": {
   "codemirror_mode": {
    "name": "ipython",
    "version": 3
   },
   "file_extension": ".py",
   "mimetype": "text/x-python",
   "name": "python",
   "nbconvert_exporter": "python",
   "pygments_lexer": "ipython3",
   "version": "3.13.3"
  }
 },
 "nbformat": 4,
 "nbformat_minor": 5
}
